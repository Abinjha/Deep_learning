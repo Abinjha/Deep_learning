{
 "cells": [
  {
   "cell_type": "code",
   "execution_count": 10,
   "id": "ec617456",
   "metadata": {},
   "outputs": [],
   "source": [
    "import os\n",
    "import cv2\n",
    "import numpy as np\n",
    "import face_recognition  as fr\n",
    "from datetime import datetime\n"
   ]
  },
  {
   "cell_type": "code",
   "execution_count": 11,
   "id": "b6cad05f",
   "metadata": {},
   "outputs": [],
   "source": [
    "path=\"employ\"\n"
   ]
  },
  {
   "cell_type": "code",
   "execution_count": 12,
   "id": "9c8fb90a",
   "metadata": {},
   "outputs": [
    {
     "data": {
      "text/plain": [
       "['dhoni.webp',\n",
       " 'kohli.jpg',\n",
       " 'mamooty.webp',\n",
       " 'Manjuwarrier.jpg',\n",
       " 'messi.webp',\n",
       " 'mohanlal.jpg',\n",
       " 'Narendra_modi.jpg',\n",
       " 'Sachin Tendulkar.jpg',\n",
       " 'suresh gopi.jfif']"
      ]
     },
     "execution_count": 12,
     "metadata": {},
     "output_type": "execute_result"
    }
   ],
   "source": [
    "mylist=os.listdir(path)\n",
    "mylist"
   ]
  },
  {
   "cell_type": "code",
   "execution_count": 13,
   "id": "595d559b",
   "metadata": {},
   "outputs": [],
   "source": [
    "imgs=[]\n",
    "employe_names=[]\n",
    "for img in mylist:\n",
    "    imgpath=os.path.join(path,img)\n",
    "    current_img=cv2.imread(imgpath)\n",
    "    imgs.append(current_img)\n",
    "    employe_names.append(img.split(\".\")[0])\n"
   ]
  },
  {
   "cell_type": "code",
   "execution_count": 14,
   "id": "a2b6d11c",
   "metadata": {},
   "outputs": [],
   "source": [
    "def faceencoding (images):\n",
    "    encodelist=[]\n",
    "    for img in images:\n",
    "        img=cv2.cvtColor(img,cv2.COLOR_BGR2RGB)\n",
    "        face_in_frame=fr.face_locations(img)\n",
    "        encode=fr.face_encodings(img,face_in_frame)[0]\n",
    "        encodelist.append(encode)\n",
    "    return encodelist\n"
   ]
  },
  {
   "cell_type": "code",
   "execution_count": 15,
   "id": "386dac88",
   "metadata": {},
   "outputs": [],
   "source": [
    "encodelist_knownfaces=faceencoding(imgs)"
   ]
  },
  {
   "cell_type": "code",
   "execution_count": 16,
   "id": "d2ea42aa",
   "metadata": {},
   "outputs": [],
   "source": [
    "marked_names = set()"
   ]
  },
  {
   "cell_type": "code",
   "execution_count": null,
   "id": "668ed857",
   "metadata": {},
   "outputs": [],
   "source": [
    "video=cv2.VideoCapture(0)\n",
    "\n",
    "while True:\n",
    "    succes,frame=video.read()\n",
    "    face_in_frames=fr.face_locations(frame)\n",
    "    encoded_face=fr.face_encodings(frame,face_in_frames)\n",
    "    for enc_face,faceloc in zip(encoded_face,face_in_frames):\n",
    "        match=fr.compare_faces(encodelist_knownfaces,enc_face)\n",
    "        face_dist=fr.face_distance(encodelist_knownfaces,enc_face)\n",
    "        match_index=np.argmin(face_dist)\n",
    "    if match[match_index]:\n",
    "        name=employe_names[match_index]\n",
    "        \n",
    "        if name not in marked_names:\n",
    "                marked_names.add(name)\n",
    "                now = datetime.now()\n",
    "                f = open(\"attendance.csv\", \"a\")\n",
    "                f.write(f\"{name},{now}\\n\")\n",
    "                f.close()\n",
    "    else:\n",
    "        name=\"unknown\"\n",
    "    \n",
    "    y1,x2,y2,x1=faceloc\n",
    "    cv2.rectangle(frame,(x1,y1),(x2,y2),(0,0,255))\n",
    "    cv2.putText(frame,name,(x1,y1),cv2.FONT_HERSHEY_COMPLEX,1,(0,255,0),2)\n",
    "    cv2.imshow(\"face recognition\",frame)\n",
    "    if cv2.waitKey(1)&0XFF==ord('q'):\n",
    "        break\n",
    "video.release()\n",
    "cv2.destroyAllWindows()"
   ]
  }
 ],
 "metadata": {
  "kernelspec": {
   "display_name": "Python 3",
   "language": "python",
   "name": "python3"
  },
  "language_info": {
   "codemirror_mode": {
    "name": "ipython",
    "version": 3
   },
   "file_extension": ".py",
   "mimetype": "text/x-python",
   "name": "python",
   "nbconvert_exporter": "python",
   "pygments_lexer": "ipython3",
   "version": "3.10.4"
  }
 },
 "nbformat": 4,
 "nbformat_minor": 5
}
