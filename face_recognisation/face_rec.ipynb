{
 "cells": [
  {
   "cell_type": "code",
   "execution_count": null,
   "id": "9ccbde37",
   "metadata": {},
   "outputs": [],
   "source": [
    "#cmake\n",
    "#dlib\n",
    "#face_recognition"
   ]
  },
  {
   "cell_type": "code",
   "execution_count": null,
   "id": "8c90d136",
   "metadata": {},
   "outputs": [],
   "source": []
  }
 ],
 "metadata": {
  "language_info": {
   "name": "python"
  }
 },
 "nbformat": 4,
 "nbformat_minor": 5
}
