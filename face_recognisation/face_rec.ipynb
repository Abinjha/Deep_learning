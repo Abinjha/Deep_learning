{
 "cells": [
  {
   "cell_type": "code",
   "execution_count": 3,
   "id": "9ccbde37",
   "metadata": {},
   "outputs": [],
   "source": [
    "#cmake\n",
    "#dlib\n",
    "#face_recognition"
   ]
  },
  {
   "cell_type": "code",
   "execution_count": 4,
   "id": "8c90d136",
   "metadata": {},
   "outputs": [],
   "source": [
    "import os\n",
    "import cv2\n",
    "import numpy as np\n",
    "import face_recognition as fr"
   ]
  },
  {
   "cell_type": "code",
   "execution_count": 5,
   "id": "5b15338c",
   "metadata": {},
   "outputs": [],
   "source": [
    "path=\"images\"\n"
   ]
  },
  {
   "cell_type": "code",
   "execution_count": 6,
   "id": "1f79c5be",
   "metadata": {},
   "outputs": [
    {
     "data": {
      "text/plain": [
       "['dhoni.webp',\n",
       " 'mamooty.webp',\n",
       " 'messi.webp',\n",
       " 'mohanlal.jpg',\n",
       " 'Sachin Tendulkar.jpg']"
      ]
     },
     "execution_count": 6,
     "metadata": {},
     "output_type": "execute_result"
    }
   ],
   "source": [
    "os.listdir(path)"
   ]
  },
  {
   "cell_type": "code",
   "execution_count": 7,
   "id": "61506483",
   "metadata": {},
   "outputs": [
    {
     "data": {
      "text/plain": [
       "5"
      ]
     },
     "execution_count": 7,
     "metadata": {},
     "output_type": "execute_result"
    }
   ],
   "source": [
    "len(os.listdir(path))"
   ]
  },
  {
   "cell_type": "code",
   "execution_count": 8,
   "id": "56440cf1",
   "metadata": {},
   "outputs": [
    {
     "data": {
      "text/plain": [
       "['dhoni.webp',\n",
       " 'mamooty.webp',\n",
       " 'messi.webp',\n",
       " 'mohanlal.jpg',\n",
       " 'Sachin Tendulkar.jpg']"
      ]
     },
     "execution_count": 8,
     "metadata": {},
     "output_type": "execute_result"
    }
   ],
   "source": [
    "mylist=os.listdir(path)\n",
    "mylist"
   ]
  },
  {
   "cell_type": "code",
   "execution_count": 9,
   "id": "7cd1d4c9",
   "metadata": {},
   "outputs": [],
   "source": [
    "imgs=[]\n",
    "classnames=[]\n",
    "for img in mylist:\n",
    "    imgpath=os.path.join(path,img)\n",
    "    #print(imgpath)\n",
    "    current_img=cv2.imread(imgpath)\n",
    "    imgs.append(current_img)\n",
    "    #classnames.append(img[:-4])   all images in same extension(.jpg) \n",
    "    classnames.append(img.split(\".\")[0]) "
   ]
  },
  {
   "cell_type": "code",
   "execution_count": 10,
   "id": "3bdcba44",
   "metadata": {},
   "outputs": [],
   "source": [
    "# #face location\n",
    "# #face encoding\n",
    "# img=imgs[0]\n",
    "# img=cv2.cvtColor(img,cv2.COLOR_BGR2RGB)\n",
    "# face=fr.face_locations(img)\n",
    "# print(face)\n",
    "# #face encoding\n",
    "# encode=fr.face_encodings(img,face)[0]\n",
    "# encode"
   ]
  },
  {
   "cell_type": "code",
   "execution_count": 11,
   "id": "28011f66",
   "metadata": {},
   "outputs": [],
   "source": [
    "def faceencoding(imags):\n",
    "    encodelist=[]\n",
    "    for img in imags:\n",
    "        img=cv2.cvtColor(img,cv2.COLOR_BGR2RGB)\n",
    "        face_in_frame=fr.face_locations(img)\n",
    "        encode=fr.face_encodings(img,face_in_frame)[0]\n",
    "        encodelist.append(encode)\n",
    "    return encodelist\n"
   ]
  },
  {
   "cell_type": "code",
   "execution_count": 12,
   "id": "608b1bd3",
   "metadata": {},
   "outputs": [],
   "source": [
    "encodelist_knownfaces=faceencoding(imgs)"
   ]
  },
  {
   "cell_type": "code",
   "execution_count": 25,
   "id": "c987a942",
   "metadata": {},
   "outputs": [
    {
     "name": "stdout",
     "output_type": "stream",
     "text": [
      "mamooty\n",
      "mamooty\n",
      "mamooty\n",
      "mamooty\n",
      "mamooty\n",
      "mamooty\n",
      "mamooty\n",
      "mamooty\n",
      "mamooty\n",
      "mamooty\n",
      "mamooty\n",
      "mamooty\n",
      "mamooty\n",
      "mamooty\n",
      "mamooty\n",
      "mamooty\n",
      "mamooty\n",
      "mamooty\n",
      "mamooty\n",
      "mamooty\n",
      "mamooty\n"
     ]
    }
   ],
   "source": [
    "video=cv2.VideoCapture(0)\n",
    "while True:\n",
    "    sucess,frame=video.read()\n",
    "    frame1=cv2.cvtColor(frame,cv2.COLOR_BGR2RGB)\n",
    "    face_in_frames=fr.face_locations(frame1)\n",
    "    # print(face_in_frames)\n",
    "    encoded_face=fr.face_encodings(frame1,face_in_frames)\n",
    "    # print(encoded_face)\n",
    "    for enc_face,faceloc in zip (encoded_face,face_in_frames):\n",
    "        maths=fr.compare_faces(encodelist_knownfaces,enc_face)\n",
    "        # print(maths)\n",
    "    #face distance\n",
    "    face_dis=fr.face_distance(encodelist_knownfaces,enc_face)\n",
    "    # print(face_dis)\n",
    "    matchindex=np.argmin(face_dis)\n",
    "    if maths[matchindex]:\n",
    "        name=classnames[matchindex]\n",
    "        print(name)\n",
    "    else:\n",
    "        name=\"unknown\"\n",
    "    #face loc====>y1,x2,y2,x1\n",
    "    y1,x2,y2,x1=faceloc\n",
    "    cv2.rectangle(frame,(x1,y1),(x2,y2),(0,0,255))\n",
    "    cv2.putText(frame,name,(x1,y1),cv2.FONT_HERSHEY_COMPLEX,1,(0,255,0),2)\n",
    "    \n",
    "\n",
    "    cv2.imshow(\"face recognition\",frame)\n",
    "    if cv2.waitKey(1)&0XFF==ord('q'):\n",
    "        break\n",
    "video.release()\n",
    "cv2.destroyAllWindows()"
   ]
  }
 ],
 "metadata": {
  "kernelspec": {
   "display_name": "Python 3",
   "language": "python",
   "name": "python3"
  },
  "language_info": {
   "codemirror_mode": {
    "name": "ipython",
    "version": 3
   },
   "file_extension": ".py",
   "mimetype": "text/x-python",
   "name": "python",
   "nbconvert_exporter": "python",
   "pygments_lexer": "ipython3",
   "version": "3.10.4"
  }
 },
 "nbformat": 4,
 "nbformat_minor": 5
}
