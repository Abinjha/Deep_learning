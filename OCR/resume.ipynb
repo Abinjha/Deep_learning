{
 "cells": [
  {
   "cell_type": "code",
   "execution_count": 1,
   "id": "56f3137b",
   "metadata": {},
   "outputs": [],
   "source": [
    "import cv2\n",
    "import pytesseract\n",
    "import re"
   ]
  },
  {
   "cell_type": "code",
   "execution_count": 2,
   "id": "bed38d92",
   "metadata": {},
   "outputs": [],
   "source": [
    "pytesseract.pytesseract.tesseract_cmd=r'C:\\Program Files\\Tesseract-OCR\\tesseract.exe'"
   ]
  },
  {
   "cell_type": "code",
   "execution_count": 3,
   "id": "82d3f438",
   "metadata": {},
   "outputs": [],
   "source": [
    "img=cv2.imread('resume me.jpeg')\n"
   ]
  },
  {
   "cell_type": "code",
   "execution_count": 4,
   "id": "702c93dd",
   "metadata": {},
   "outputs": [],
   "source": [
    "cv2.namedWindow(\"image\",cv2.WINDOW_NORMAL)\n",
    "cv2.imshow(\"image\",img)\n",
    "cv2.waitKey(5000)\n",
    "cv2.destroyAllWindows()"
   ]
  },
  {
   "cell_type": "code",
   "execution_count": 5,
   "id": "17df67a3",
   "metadata": {},
   "outputs": [],
   "source": [
    "gray = cv2.cvtColor(img, cv2.COLOR_BGR2GRAY)"
   ]
  },
  {
   "cell_type": "code",
   "execution_count": 6,
   "id": "82f370f9",
   "metadata": {},
   "outputs": [],
   "source": [
    "# Apply thresholding to improve contrast\n",
    "thresh = cv2.threshold(gray, 150, 255, cv2.THRESH_BINARY + cv2.THRESH_OTSU)[1]"
   ]
  },
  {
   "cell_type": "code",
   "execution_count": 7,
   "id": "c38431f1",
   "metadata": {},
   "outputs": [
    {
     "name": "stdout",
     "output_type": "stream",
     "text": [
      "Abinj ha KV Email: abinjhakv01@gmail.com\n",
      "Linkdin:www.linkedin.com/in/abinjha-k-v Mobile:+91 8590948148\n",
      "\n",
      "SUMMARY\n",
      "\n",
      "Eager to apply my data analysis skills in a dynamic enviornment.Skilled in Sql,python and data visualization. Aspiring to contribute to data\n",
      "\n",
      "driven decision making procesess and eager to develop further in data analytics.\n",
      "‘TECHNICAL SKILLS\n",
      "e Languages: Python,SQL\n",
      "\n",
      "e Frameworks Libraries: NumPy, Pandas, Matplotlib, Seaborn, TensorFlow, Keras, OpenCV\n",
      "e Data Visualization BI Tools: Power BI (DAX, Power Query), MySQL\n",
      "\n",
      "e Platforms: PyCharm, Visual Studio Code,Google colab\n",
      "\n",
      "e Soft Skills: Leadership,Time Management\n",
      "\n",
      "EXPERIENCE\n",
      "\n",
      "; Luminar Technolab Internship\n",
      "Data analyst (internship) DEC 2024 -\n",
      "\n",
      "o Data Analysis Visualization: EDA using Python (Pandas, NumPy), data visualization with Matplotlib, Seaborn,\n",
      "and Power BI .\n",
      "\n",
      "o Machine Learning: Regression, Classification, Clustering (KNN, SVM, Decision Tree, Random Forest,K-Means),\n",
      "model evaluation, regularization.\n",
      "\n",
      "o Deep Learning: ANN, CNN, NLP.\n",
      "o Computer Vision: Image processing and OCR. using OpenCV\n",
      "o Cloud: Basics of AWS (EC2, $3, IAM)\n",
      "\n",
      "PROJECTS\n",
      "Predictive Modeling of Hospital Length of Stay\n",
      "\n",
      "o Developed a machine learning model to predict patient length of stay using the MIMIC-III dataset.\n",
      "\n",
      "o Performed exploratory data analysis, feature engineering, and model evaluation using regression techniques. .\n",
      "Loan Default Prediction using Machine Learning Python, Scikit-learn, XGBoost\n",
      "\n",
      "o Analyzed bank loan data to predict if a customer is likely to default on a loan.\n",
      "\n",
      "o Used techniques like one-hot encoding, handling missing values, and model tuning.\n",
      "\n",
      "o Achieved 90%-+ accuracy using ensemble models like Random .\n",
      "\n",
      "EDUCATION\n",
      "o Msc Mathematics 2022-2024\n",
      "st.Joseph’s college autonomous Irinjalakuda, Calicut university\n",
      "o Bsc Mathematics 2019-2022\n",
      "\n",
      "MES Asmabi college P. Vemballur,Calicut University\n",
      "\n",
      "VOLUNTEER EXPERIENCE\n",
      "\n",
      "o National Service Scheme 2019-2021\n",
      "\n"
     ]
    }
   ],
   "source": [
    "text=pytesseract.image_to_string(thresh)\n",
    "print(text)"
   ]
  },
  {
   "cell_type": "code",
   "execution_count": null,
   "id": "895c6a75",
   "metadata": {},
   "outputs": [],
   "source": [
    "dic=pytesseract.image_to_data(img,output_type=pytesseract.Output.DICT)"
   ]
  },
  {
   "cell_type": "code",
   "execution_count": 9,
   "id": "8aea6024",
   "metadata": {},
   "outputs": [
    {
     "name": "stdout",
     "output_type": "stream",
     "text": [
      "356\n"
     ]
    }
   ],
   "source": [
    "print(len(dic['text']))"
   ]
  },
  {
   "cell_type": "code",
   "execution_count": 10,
   "id": "bc8020e1",
   "metadata": {},
   "outputs": [],
   "source": [
    "skills = ['excel', 'SQL', 'Python', 'power bi', 'tableau', 'statistics', 'data analysis', \n",
    "          'machine learning', 'data visualization', 'data cleaning', 'numpy', 'pandas', \n",
    "          'data studio', 'big data','matplotlib','seaborn']\n",
    "text_lower=text.lower()"
   ]
  },
  {
   "cell_type": "code",
   "execution_count": 11,
   "id": "7c687fad",
   "metadata": {},
   "outputs": [
    {
     "name": "stdout",
     "output_type": "stream",
     "text": [
      "Found Skills: ['SQL', 'Python', 'power bi', 'data analysis', 'machine learning', 'data visualization', 'numpy', 'pandas', 'matplotlib', 'seaborn']\n",
      "Resume Score: 10/16 (62.50%)\n"
     ]
    }
   ],
   "source": [
    "found_skills = []\n",
    "for skill in skills:\n",
    "    pattern = r'\\b' + re.escape(skill.lower()) + r'\\b'\n",
    "    if re.search(pattern,text_lower):\n",
    "        found_skills.append(skill)\n",
    "score = len(found_skills)\n",
    "total = len(skills)\n",
    "percentage = (score / total) * 100\n",
    "print(\"Found Skills:\", found_skills)\n",
    "print(f\"Resume Score: {score}/{total} ({percentage:.2f}%)\")\n"
   ]
  }
 ],
 "metadata": {
  "kernelspec": {
   "display_name": "Python 3",
   "language": "python",
   "name": "python3"
  },
  "language_info": {
   "codemirror_mode": {
    "name": "ipython",
    "version": 3
   },
   "file_extension": ".py",
   "mimetype": "text/x-python",
   "name": "python",
   "nbconvert_exporter": "python",
   "pygments_lexer": "ipython3",
   "version": "3.10.4"
  }
 },
 "nbformat": 4,
 "nbformat_minor": 5
}
