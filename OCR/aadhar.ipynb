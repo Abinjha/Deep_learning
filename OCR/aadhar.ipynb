{
 "cells": [
  {
   "cell_type": "code",
   "execution_count": 1,
   "id": "2cf15cba",
   "metadata": {},
   "outputs": [],
   "source": [
    "import cv2\n",
    "import pytesseract\n",
    "import re"
   ]
  },
  {
   "cell_type": "code",
   "execution_count": 2,
   "id": "b65ae3e5",
   "metadata": {},
   "outputs": [],
   "source": [
    "pytesseract.pytesseract.tesseract_cmd=r'C:\\Program Files\\Tesseract-OCR\\tesseract.exe'"
   ]
  },
  {
   "cell_type": "code",
   "execution_count": 3,
   "id": "e43a5b47",
   "metadata": {},
   "outputs": [],
   "source": [
    "img=cv2.imread(\"WhatsApp Image 2025-06-14 at 10.54.00 AM.jpeg\")\n"
   ]
  },
  {
   "cell_type": "code",
   "execution_count": 4,
   "id": "c605373d",
   "metadata": {},
   "outputs": [],
   "source": [
    "cv2.namedWindow(\"image\",cv2.WINDOW_NORMAL)\n",
    "cv2.imshow(\"image\",img)\n",
    "cv2.waitKey()\n",
    "cv2.destroyAllWindows()"
   ]
  },
  {
   "cell_type": "code",
   "execution_count": 5,
   "id": "f6e492d1",
   "metadata": {},
   "outputs": [
    {
     "name": "stdout",
     "output_type": "stream",
     "text": [
      "Sa IQP.aIGaNG MMU / Enrollment No.: 2003/38235/62219\n",
      "\n",
      "To,\n",
      "Gelman o@ Of)\n",
      "Abinjha K V\n",
      "\n",
      "D/O: Vikraman\n",
      "\n",
      "Kizhakkedath House\n",
      "\n",
      "Thadivalavu Perinjanam\n",
      "\n",
      "Perinjanam West Kodungallur Thrissur\n",
      "Kerala 680686\n",
      "\n",
      "9847880160\n",
      "\n",
      "15/03/2013\n",
      "\n",
      "Ref: 3396 / 17T / 131643 / 131657 /P\n",
      "\n",
      "MINUET UL I\n",
      "\n",
      "SB993689562FH — aysnsrcyaprnuncon a\n",
      "\n",
      "ae ROT\n",
      "mlemagzos @Qwoe mmd/ Your Aadhaar No. :\n",
      "\n",
      "5582 0565 6976\n",
      "AHO GOQWI%, aHom oa*waylg)\n",
      "\n",
      "a Ge lesm o& 2!)\n",
      "a . Abinjha K V\n",
      "\n",
      "ye 4 RM ol@a)/ DOB : 11/09/2001\n",
      "— Mo) / Female\n",
      "\n",
      "_ 5582 0565 6976\n",
      "OM GOHWIG, afjarh aGwaylg)\n",
      "\n"
     ]
    }
   ],
   "source": [
    "text=pytesseract.image_to_string(img)\n",
    "print(text)"
   ]
  },
  {
   "cell_type": "code",
   "execution_count": 6,
   "id": "b5583af3",
   "metadata": {},
   "outputs": [],
   "source": [
    "dic=pytesseract.image_to_data(img,output_type=pytesseract.Output.DICT)\n"
   ]
  },
  {
   "cell_type": "code",
   "execution_count": 7,
   "id": "8ff7b450",
   "metadata": {},
   "outputs": [
    {
     "data": {
      "text/plain": [
       "151"
      ]
     },
     "execution_count": 7,
     "metadata": {},
     "output_type": "execute_result"
    }
   ],
   "source": [
    "n=len(dic['text'])\n",
    "n"
   ]
  },
  {
   "cell_type": "code",
   "execution_count": 9,
   "id": "1b0b34e3",
   "metadata": {},
   "outputs": [],
   "source": [
    "count=0\n",
    "for i in range(n-2):\n",
    "    words = [dic['text'][i].strip(), dic['text'][i+1].strip(), dic['text'][i+2].strip()]\n",
    "    line = \" \".join(words)\n",
    "\n",
    "    if re.fullmatch(r'\\d{4} \\d{4} \\d{4}', line):\n",
    "        x = min(dic['left'][i], dic['left'][i+1], dic['left'][i+2])\n",
    "        y = min(dic['top'][i], dic['top'][i+1], dic['top'][i+2])\n",
    "        w = max(dic['left'][i]+dic['width'][i], dic['left'][i+2]+dic['width'][i+2]) - x\n",
    "        h = max(dic['top'][i]+dic['height'][i], dic['top'][i+2]+dic['height'][i+2]) - y\n",
    "\n",
    "        cv2.rectangle(img, (x, y), (x + w, y + h), (255,0,0), 4)\n",
    "        \n",
    "    if dic['text'][i]=='DOB':\n",
    "          count=1\n",
    "          continue\n",
    "    if count==1:\n",
    "          if re.search(r'\\d\\d/\\d\\d/\\d\\d\\d\\d',dic['text'][i]):\n",
    "               x=dic['left'][i]\n",
    "               y=dic['top'][i]\n",
    "               w=dic['width'][i]\n",
    "               h=dic['height'][i]\n",
    "               cv2.rectangle(img,(x,y),(x+w,y+h),(0,0,255),4)\n",
    "cv2.namedWindow(\"image1\",cv2.WINDOW_NORMAL)\n",
    "cv2.resizeWindow(\"image1\", 1000, 700)\n",
    "cv2.imshow(\"image1\",img)\n",
    "cv2.waitKey(5000)\n",
    "cv2.destroyAllWindows()"
   ]
  }
 ],
 "metadata": {
  "kernelspec": {
   "display_name": "Python 3",
   "language": "python",
   "name": "python3"
  },
  "language_info": {
   "codemirror_mode": {
    "name": "ipython",
    "version": 3
   },
   "file_extension": ".py",
   "mimetype": "text/x-python",
   "name": "python",
   "nbconvert_exporter": "python",
   "pygments_lexer": "ipython3",
   "version": "3.10.4"
  }
 },
 "nbformat": 4,
 "nbformat_minor": 5
}
