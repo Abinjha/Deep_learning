{
 "cells": [
  {
   "cell_type": "code",
   "execution_count": 1,
   "id": "0560d09a",
   "metadata": {},
   "outputs": [],
   "source": [
    "import cv2\n",
    "import pytesseract\n",
    "import re\n",
    "\n",
    "# Aadhaar + DOB detection from image\n",
    "img = cv2.imread(\"WhatsApp Image 2025-06-14 at 10.54.00 AM.jpeg\")\n",
    "gray = cv2.cvtColor(img, cv2.COLOR_BGR2GRAY)\n",
    "\n",
    "# Set tesseract path\n",
    "pytesseract.pytesseract.tesseract_cmd = r'C:\\Program Files\\Tesseract-OCR\\tesseract.exe'\n",
    "\n",
    "# OCR data\n",
    "dic = pytesseract.image_to_data(gray, output_type=pytesseract.Output.DICT)\n",
    "n = len(dic['text'])\n",
    "\n",
    "# Pattern for DOB\n",
    "dob_pattern = r'\\b\\d{1,2}[\\/\\-\\.]\\d{1,2}[\\/\\-\\.]\\d{2,4}\\b'\n",
    "\n",
    "for i in range(n):\n",
    "    word = dic['text'][i]\n",
    "    \n",
    "    # 🔹 Detect DOB\n",
    "    if re.fullmatch(dob_pattern, word):\n",
    "        x, y, w, h = dic['left'][i], dic['top'][i], dic['width'][i], dic['height'][i]\n",
    "        cv2.rectangle(img, (x, y), (x + w, y + h), (0, 255, 0), 2)\n",
    "\n",
    "    # 🔹 Detect Aadhaar from 3 consecutive 4-digit parts\n",
    "    if i+2 < n:\n",
    "        text1 = dic['text'][i].strip()\n",
    "        text2 = dic['text'][i+1].strip()\n",
    "        text3 = dic['text'][i+2].strip()\n",
    "\n",
    "        if re.fullmatch(r'\\d{4}', text1) and re.fullmatch(r'\\d{4}', text2) and re.fullmatch(r'\\d{4}', text3):\n",
    "            x = min(dic['left'][i], dic['left'][i+1], dic['left'][i+2])\n",
    "            y = min(dic['top'][i], dic['top'][i+1], dic['top'][i+2])\n",
    "            w = max(dic['left'][i] + dic['width'][i],\n",
    "                    dic['left'][i+1] + dic['width'][i+1],\n",
    "                    dic['left'][i+2] + dic['width'][i+2]) - x\n",
    "            h = max(dic['top'][i], dic['top'][i+1], dic['top'][i+2]) - y + dic['height'][i]\n",
    "            cv2.rectangle(img, (x, y), (x + w, y + h), (255, 0, 0), 2)\n",
    "\n",
    "# Show output\n",
    "cv2.namedWindow(\"image1\", cv2.WINDOW_NORMAL)\n",
    "cv2.resizeWindow(\"image1\", 1000, 700)\n",
    "cv2.imshow(\"image1\", img)\n",
    "cv2.waitKey(0)\n",
    "cv2.destroyAllWindows()\n"
   ]
  }
 ],
 "metadata": {
  "kernelspec": {
   "display_name": "Python 3",
   "language": "python",
   "name": "python3"
  },
  "language_info": {
   "codemirror_mode": {
    "name": "ipython",
    "version": 3
   },
   "file_extension": ".py",
   "mimetype": "text/x-python",
   "name": "python",
   "nbconvert_exporter": "python",
   "pygments_lexer": "ipython3",
   "version": "3.10.4"
  }
 },
 "nbformat": 4,
 "nbformat_minor": 5
}
